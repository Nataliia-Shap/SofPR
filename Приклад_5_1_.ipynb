{
  "nbformat": 4,
  "nbformat_minor": 0,
  "metadata": {
    "colab": {
      "name": "Приклад 5_1_.ipynb",
      "provenance": [],
      "authorship_tag": "ABX9TyOllur+rEvXpLMw7qGGwgvo",
      "include_colab_link": true
    },
    "kernelspec": {
      "name": "python3",
      "display_name": "Python 3"
    },
    "language_info": {
      "name": "python"
    }
  },
  "cells": [
    {
      "cell_type": "markdown",
      "metadata": {
        "id": "view-in-github",
        "colab_type": "text"
      },
      "source": [
        "<a href=\"https://colab.research.google.com/github/Nataliia-Shap/SofPR/blob/main/%D0%9F%D1%80%D0%B8%D0%BA%D0%BB%D0%B0%D0%B4_5_1_.ipynb\" target=\"_parent\"><img src=\"https://colab.research.google.com/assets/colab-badge.svg\" alt=\"Open In Colab\"/></a>"
      ]
    },
    {
      "cell_type": "markdown",
      "metadata": {
        "id": "LvtVCcd7btjZ"
      },
      "source": [
        "### Приклад 1. "
      ]
    },
    {
      "cell_type": "code",
      "metadata": {
        "colab": {
          "base_uri": "https://localhost:8080/",
          "height": 310
        },
        "id": "QwCcv518b0bR",
        "outputId": "f47994d0-e0d9-4df2-a263-441edb92ff1b"
      },
      "source": [
        "# необхідні бібліотеки\n",
        "import numpy as np\n",
        "import random\n",
        "from keras.datasets import mnist\n",
        "# класифікатор та метрики\n",
        "from sklearn.cluster import KMeans\n",
        "from sklearn.decomposition import PCA\n",
        "from sklearn.metrics import accuracy_score\n",
        "from sklearn.metrics import confusion_matrix\n",
        "import matplotlib.pyplot as plt\n",
        "from sklearn.datasets import make_blobs\n",
        "from sklearn.datasets import load_digits\n",
        "import matplotlib.pyplot as plt \n",
        "from sklearn.cluster import KMeans\n",
        "from sklearn.decomposition import PCA\n",
        "from sklearn.naive_bayes import GaussianNB,MultinomialNB\n",
        "# завантажимо дані та розіб'ємо на навчальну та перевірочну\n",
        "digits = load_digits()\n",
        "print(digits.data.shape)\n",
        "plt.gray() \n",
        "plt.matshow(digits.images[0]) \n",
        "plt.show() \n",
        "data, labels = load_digits(return_X_y=True)\n",
        "(n_samples, n_features), n_digits = data.shape, np.unique(labels).size\n",
        "#data_pca = PCA(n_components=n_digits).fit_transform(data)\n",
        "data_pca=data\n",
        "data_train=data[0:1436,:]\n",
        "data_test=data[1437:1797,:]\n",
        "labels_train=labels[0:1436]\n",
        "labels_test=labels[1437:1797]\n",
        "\n"
      ],
      "execution_count": null,
      "outputs": [
        {
          "output_type": "stream",
          "name": "stdout",
          "text": [
            "(1797, 64)\n"
          ]
        },
        {
          "output_type": "display_data",
          "data": {
            "text/plain": [
              "<Figure size 432x288 with 0 Axes>"
            ]
          },
          "metadata": {}
        },
        {
          "output_type": "display_data",
          "data": {
            "image/png": "[encoded data removed]",
            "text/plain": [
              "<Figure size 288x288 with 1 Axes>"
            ]
          },
          "metadata": {
            "needs_background": "light"
          }
        }
      ]
    },
    {
      "cell_type": "markdown",
      "metadata": {
        "id": "tdaTxlZZcYJx"
      },
      "source": [
        "### Байєсівський класифікатор"
      ]
    },
    {
      "cell_type": "code",
      "metadata": {
        "colab": {
          "base_uri": "https://localhost:8080/",
          "height": 301
        },
        "id": "QiUfR5mMcf4o",
        "outputId": "599cc630-2981-4a42-d833-ad6012fe7b2d"
      },
      "source": [
        "clf_nb = GaussianNB()\n",
        "clf_nb.fit(data_train,labels_train)\n",
        "# зробимо класифікацію за допомогою навченою моделі\n",
        "y_test_pred_nb = clf_nb.predict(data_test)\n",
        "lbl_NB = np.zeros(20)\n",
        "lbl_= np.zeros(20)\n",
        "for i in range(1,21):\n",
        "  im_idx = random.randint(0,359)\n",
        "  lbl_NB[i-1]=y_test_pred_nb[im_idx]\n",
        "  lbl_[i-1]=labels_train[im_idx]\n",
        "  plt.subplot(5, 4, i)\n",
        "  plt.imshow(digits.images[im_idx], cmap='gray')\n",
        "  plt.axis('off')\n",
        "plt.show()\n",
        "print(lbl_NB[:20])\n",
        "print(lbl_[:20])\n",
        "a_NB = accuracy_score(labels_test, y_test_pred_nb)\n",
        "print(a_NB)\n",
        "#print(labels_test)\n",
        "#print(y_test_pred_nb)"
      ],
      "execution_count": null,
      "outputs": [
        {
          "output_type": "display_data",
          "data": {
            "image/png": "[encoded data removed]",
            "text/plain": [
              "<Figure size 432x288 with 20 Axes>"
            ]
          },
          "metadata": {
            "needs_background": "light"
          }
        },
        {
          "output_type": "stream",
          "name": "stdout",
          "text": [
            "[6. 8. 9. 0. 6. 0. 9. 3. 2. 2. 8. 7. 3. 8. 5. 8. 0. 1. 9. 6.]\n",
            "[8. 8. 6. 5. 9. 7. 1. 6. 3. 4. 6. 8. 7. 6. 4. 9. 5. 4. 8. 9.]\n",
            "0.8138888888888889\n"
          ]
        }
      ]
    },
    {
      "cell_type": "markdown",
      "metadata": {
        "id": "wDgJGCCjdwCR"
      },
      "source": [
        "### kmeans"
      ]
    },
    {
      "cell_type": "code",
      "metadata": {
        "colab": {
          "base_uri": "https://localhost:8080/",
          "height": 301
        },
        "id": "RmV7mpzPd8fw",
        "outputId": "8c4200e4-1cbb-4259-9726-e9d3b18945a0"
      },
      "source": [
        "kmeans = KMeans(init=\"k-means++\", n_clusters=n_digits, n_init=4,random_state=0).fit(data_pca)\n",
        "#Використаємо навчений класифікатор\n",
        "km_predict=kmeans.predict(data_test)\n",
        "reference_labels = {}\n",
        "for i in range(len(np.unique(km_predict))):\n",
        "  index = np.where(km_predict == i,1,0)\n",
        "  num = np.bincount(labels_test[index==1]).argmax()\n",
        "  reference_labels[i] = num\n",
        "  number_labels = np.random.rand(len(km_predict))\n",
        "for i in range(len(km_predict)):\n",
        "  number_labels[i] = reference_labels[km_predict[i]]\n",
        "lbl_kmeans = np.zeros(20)\n",
        "lbl_= np.zeros(20)\n",
        "for i in range(1,21):\n",
        "  im_idx = random.randint(0,359)\n",
        "  lbl_kmeans[i-1]=number_labels[im_idx]\n",
        "  lbl_[i-1]=labels_test[im_idx]\n",
        "  plt.subplot(5, 4, i)\n",
        "  plt.imshow(digits.images[im_idx], cmap='gray')\n",
        "  plt.axis('off')\n",
        "plt.show()\n",
        "print(lbl_kmeans[:20])\n",
        "print(lbl_[:20])\n",
        "a_km = accuracy_score(labels_test, number_labels)\n",
        "print(a_km)"
      ],
      "execution_count": null,
      "outputs": [
        {
          "output_type": "display_data",
          "data": {
            "image/png": "[encoded data removed]",
            "text/plain": [
              "<Figure size 432x288 with 20 Axes>"
            ]
          },
          "metadata": {
            "needs_background": "light"
          }
        },
        {
          "output_type": "stream",
          "name": "stdout",
          "text": [
            "[6. 5. 9. 1. 9. 1. 1. 6. 6. 2. 1. 6. 0. 6. 0. 0. 9. 7. 5. 0.]\n",
            "[6. 5. 3. 9. 9. 1. 3. 6. 6. 2. 1. 6. 0. 6. 0. 0. 9. 7. 5. 0.]\n",
            "0.7194444444444444\n"
          ]
        }
      ]
    }
  ]
}